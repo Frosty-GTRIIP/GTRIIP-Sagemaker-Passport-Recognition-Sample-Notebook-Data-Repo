{
 "cells": [
  {
   "cell_type": "code",
   "execution_count": 12,
   "id": "ba415bb2",
   "metadata": {},
   "outputs": [],
   "source": [
    "import boto3"
   ]
  },
  {
   "cell_type": "code",
   "execution_count": 40,
   "id": "a12d39f3",
   "metadata": {},
   "outputs": [
    {
     "name": "stdout",
     "output_type": "stream",
     "text": [
      "{'ResponseMetadata': {'RequestId': '5f9f9b09-e75b-48ba-85a2-3f4e22e9032d', 'HTTPStatusCode': 200, 'HTTPHeaders': {'x-amzn-requestid': '5f9f9b09-e75b-48ba-85a2-3f4e22e9032d', 'x-amzn-invoked-production-variant': 'variant-name-1', 'date': 'Fri, 16 Jul 2021 07:49:45 GMT', 'content-type': 'application/json', 'content-length': '658'}, 'RetryAttempts': 0}, 'ContentType': 'application/json', 'InvokedProductionVariant': 'variant-name-1', 'Body': <botocore.response.StreamingBody object at 0x7f925dc4e550>}\n"
     ]
    }
   ],
   "source": [
    "client = boto3.client('sagemaker-runtime')\n",
    "\n",
    "custom_attributes = \"c000b4f9-df62-4c85-a0bf-7c525f9104a4\"  # An example of a trace ID.\n",
    "endpoint_name = \"QASagePass\"                                       # Your endpoint name.\n",
    "content_type = \"application/json\"                                        # The MIME type of the input data in the request body.\n",
    "accept = \"application/json\"                                              # The desired MIME type of the inference in the response.\n",
    "payload = open(\"/Users/frostjack/Data/sagemaker_validation/validation_input_json/passport_4.json\", 'r').read()# Payload for inference.\n",
    "response = client.invoke_endpoint(\n",
    "    EndpointName=endpoint_name, \n",
    "    # CustomAttributes=custom_attributes, \n",
    "    ContentType=content_type,\n",
    "    Accept=accept,\n",
    "    Body=payload\n",
    "    )\n",
    "\n",
    "print(response)                         # If model receives and updates the custom_attributes header \n",
    "                                                            # by adding \"Trace id: \" in front of custom_attributes in the request,\n",
    "                                                            # custom_attributes in response becomes\n",
    "                                                            # \"Trace ID: c000b4f9-df62-4c85-a0bf-7c525f9104a4\""
   ]
  },
  {
   "cell_type": "code",
   "execution_count": 37,
   "id": "72ad56d7",
   "metadata": {},
   "outputs": [
    {
     "name": "stdout",
     "output_type": "stream",
     "text": [
      "b'{\"success\":true,\"result\":{\"mrz_type\":\"TD3\",\"valid_score\":42,\"type\":\"PO\",\"country\":\"China\",\"number\":\"F46549586\",\"date_of_birth\":\"2005-02-09\",\"expired\":true,\"expiration_date\":\"2020-03-19\",\"nationality\":\"CHN\",\"sex\":\"Male\",\"names\":\"XIAOYAN\",\"surname\":\"ZHANG\",\"personal_number\":\"NFMFNAKHOMMNAQ\",\"check_number\":\"7\",\"check_date_of_birth\":\"8\",\"check_expiration_date\":\"7\",\"check_composite\":\"0\",\"check_personal_number\":\"0\",\"valid_number\":false,\"valid_date_of_birth\":true,\"valid_expiration_date\":true,\"valid_composite\":false,\"valid_personal_number\":false,\"method\":\"direct\",\"document_type\":\"passport\",\"issuing_location\":\"7SHANGHAI\"},\"error_code\":\"-1\",\"error_message\":\"\"}'\n"
     ]
    }
   ],
   "source": [
    "print(response['Body'].read())"
   ]
  },
  {
   "cell_type": "code",
   "execution_count": 39,
   "id": "a3bede51",
   "metadata": {},
   "outputs": [
    {
     "name": "stdout",
     "output_type": "stream",
     "text": [
      "<class 'str'>\n"
     ]
    }
   ],
   "source": [
    "print(type(payload))"
   ]
  },
  {
   "cell_type": "code",
   "execution_count": null,
   "id": "0e957976",
   "metadata": {},
   "outputs": [],
   "source": []
  }
 ],
 "metadata": {
  "kernelspec": {
   "display_name": "Python 3",
   "language": "python",
   "name": "python3"
  },
  "language_info": {
   "codemirror_mode": {
    "name": "ipython",
    "version": 3
   },
   "file_extension": ".py",
   "mimetype": "text/x-python",
   "name": "python",
   "nbconvert_exporter": "python",
   "pygments_lexer": "ipython3",
   "version": "3.8.8"
  }
 },
 "nbformat": 4,
 "nbformat_minor": 5
}
